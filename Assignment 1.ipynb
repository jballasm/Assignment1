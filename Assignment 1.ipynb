{
 "cells": [
  {
   "cell_type": "markdown",
   "id": "7cae2382",
   "metadata": {},
   "source": [
    "# Assignment 1\n",
    "* **Juan Ballas Marchant**\n",
    "* Version 1\n",
    "* Fall 2023"
   ]
  },
  {
   "attachments": {},
   "cell_type": "markdown",
   "id": "fd9ef09b",
   "metadata": {},
   "source": [
    "# Juan Ballas Marchant - Markdown Practice\n",
    "### I am on my 5th year doing an MBA. I play in the soccer team at Bellarmine. I like sports and movies. I want to learn coding because I think it will be helpful for the future wherever I work at.\n",
    "* Programming Assignments\n",
    "* Quizzes\n",
    "* Attendance/In class completed notebook submission\n",
    "* Mid-term Exam (2)\n",
    "* Project (2)\n",
    "1. Variables and `Simple Data Types`\n",
    "2. Introducing Lists, Tuples\n",
    "3. If Statements\n",
    "4. Dictionaries\n",
    "5. While Loops\n",
    "6. Functions\n",
    "7. Classes\n",
    "8. Numpy\n",
    "\n",
    "**Python is an interpreted based language**\n",
    "\n",
    "*Anaconda*\n",
    "\n",
    "<a href=\"https://github.com/jballasm/\">GitHub-Juan Ballas</a>\n",
    "![Bellarmine University Logo](https://www.bellarmine.edu/sf-images/default-source/about/bellarmine-university-white-maroon-bg.jpg?sfvrsn=b9867180_0)\n",
    "\n",
    ">I learnt how to do headings, how to use bold and itilized words, how to use a hyperlink as well as a render image, also learnt how to do bullet and ordered lists. Finally learnt how to write a paragraph using blockquotes"
   ]
  },
  {
   "cell_type": "code",
   "execution_count": null,
   "id": "95e043f4",
   "metadata": {},
   "outputs": [],
   "source": []
  }
 ],
 "metadata": {
  "kernelspec": {
   "display_name": "Python 3 (ipykernel)",
   "language": "python",
   "name": "python3"
  },
  "language_info": {
   "codemirror_mode": {
    "name": "ipython",
    "version": 3
   },
   "file_extension": ".py",
   "mimetype": "text/x-python",
   "name": "python",
   "nbconvert_exporter": "python",
   "pygments_lexer": "ipython3",
   "version": "3.11.4"
  }
 },
 "nbformat": 4,
 "nbformat_minor": 5
}
